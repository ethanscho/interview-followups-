{
 "cells": [
  {
   "cell_type": "markdown",
   "metadata": {},
   "source": [
    "## NumPy Batch Normalization "
   ]
  },
  {
   "cell_type": "markdown",
   "metadata": {},
   "source": [
    "Batch Normalization 논문에 따르면 (https://arxiv.org/abs/1502.03167),\n",
    "\n",
    "layer input으로 X (n, D)가 들어온다고 했을 때 (n: batch size, D: feature size), \n",
    "맨 마지막 axis에 대해 normalization을 하고, scale by gamma, shift by beta를 취한다. \n",
    "\n",
    "즉, D번 normalization + scale and shift를 한다. \n",
    "이 때 trainable parameter는 총 D * 2개가 된다. (D * {gamma, beta})"
   ]
  },
  {
   "cell_type": "markdown",
   "metadata": {},
   "source": [
    "<img src=\"https://leonardoaraujosantos.gitbooks.io/artificial-inteligence/content/image_folder_5/Compute_BatchNorm.png\"/>"
   ]
  },
  {
   "cell_type": "markdown",
   "metadata": {},
   "source": [
    "<img src=\"https://leonardoaraujosantos.gitbooks.io/artificial-inteligence/content/image_folder_5/batch_norm_fp.png\"/>"
   ]
  },
  {
   "cell_type": "markdown",
   "metadata": {},
   "source": [
    "Conv2D도 마찬가지로 channel 축에 대해서 각각 normalizatoin을 한다. \n",
    "\n",
    "예를 들어, Conv2D를 거쳐서 나온 output shape이 (N, w, h, c)라고 했을때, \n",
    "총 c번 normalization + scale by gamma, shift by beta를 취한다. \n",
    "이 때 trainable parameter는 총 c * 2개가 된다. \n"
   ]
  },
  {
   "cell_type": "markdown",
   "metadata": {},
   "source": [
    "# NumPy Implementation"
   ]
  },
  {
   "cell_type": "code",
   "execution_count": 5,
   "metadata": {},
   "outputs": [],
   "source": [
    "import numpy as np"
   ]
  },
  {
   "cell_type": "code",
   "execution_count": 40,
   "metadata": {},
   "outputs": [],
   "source": [
    "def batch_normalization_forward(x, gamma, beta):\n",
    "    # x shape: arbitrary. only the last feature axis matters.\n",
    "    \n",
    "    channels = x.shape[-1]\n",
    "    x_flatten = x.reshape((-1, channels))\n",
    "    batch_size = x.shape[0]\n",
    "\n",
    "    mu = np.mean(x_flatten, axis=0) / batch_size\n",
    "    var = np.sum((x_flatten - mu) ** 2, axis=0) / batch_size\n",
    "    \n",
    "    norm_x = (x_flatten - mu) / np.sqrt(var + 0.0001)\n",
    "    \n",
    "    print(mu.shape)\n",
    "    print (var.shape)\n",
    "    print (norm_x.shape)\n",
    "    \n",
    "    out = gamma * norm_x + beta\n",
    "    return out.reshape(x.shape)"
   ]
  },
  {
   "cell_type": "code",
   "execution_count": 41,
   "metadata": {},
   "outputs": [
    {
     "name": "stdout",
     "output_type": "stream",
     "text": [
      "(3,)\n",
      "(3,)\n",
      "(960000, 3)\n",
      "(100, 120, 80, 3)\n"
     ]
    }
   ],
   "source": [
    "x = np.ones((100, 120, 80, 3))\n",
    "out = batch_normalization_forward(x, 1., .5)\n",
    "\n",
    "print(out.shape)"
   ]
  },
  {
   "cell_type": "code",
   "execution_count": null,
   "metadata": {},
   "outputs": [],
   "source": []
  }
 ],
 "metadata": {
  "kernelspec": {
   "display_name": "Python 3",
   "language": "python",
   "name": "python3"
  },
  "language_info": {
   "codemirror_mode": {
    "name": "ipython",
    "version": 3
   },
   "file_extension": ".py",
   "mimetype": "text/x-python",
   "name": "python",
   "nbconvert_exporter": "python",
   "pygments_lexer": "ipython3",
   "version": "3.6.5"
  }
 },
 "nbformat": 4,
 "nbformat_minor": 2
}
